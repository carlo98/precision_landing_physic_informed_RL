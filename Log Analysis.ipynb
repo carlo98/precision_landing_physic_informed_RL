{
 "cells": [
  {
   "cell_type": "markdown",
   "id": "22dabbc3",
   "metadata": {},
   "source": [
    "# Imports"
   ]
  },
  {
   "cell_type": "code",
   "execution_count": null,
   "id": "e4b36f61",
   "metadata": {
    "scrolled": true
   },
   "outputs": [],
   "source": [
    "import numpy as np\n",
    "import pickle\n",
    "%matplotlib inline\n",
    "import matplotlib.pyplot as plt\n",
    "from matplotlib.pyplot import figure"
   ]
  },
  {
   "cell_type": "markdown",
   "id": "ec368ad3",
   "metadata": {},
   "source": [
    "# Dataframe Creation"
   ]
  },
  {
   "cell_type": "code",
   "execution_count": null,
   "id": "a7eb00e7",
   "metadata": {
    "scrolled": true
   },
   "outputs": [],
   "source": [
    "with open(\"shared/logs/log_0.pkl\", \"rb\") as file_pkl:\n",
    "    data = pickle.load(file_pkl)\n",
    "means_train = np.array(data[0])\n",
    "stds_train = np.array(data[1])\n",
    "means_test = np.array(data[2])\n",
    "stds_test = np.array(data[3])"
   ]
  },
  {
   "cell_type": "markdown",
   "id": "119336a5",
   "metadata": {},
   "source": [
    "# Visualization"
   ]
  },
  {
   "cell_type": "code",
   "execution_count": null,
   "id": "92643b49",
   "metadata": {},
   "outputs": [],
   "source": [
    "# Visualize the result\n",
    "means = means_train\n",
    "stds = stds_train\n",
    "x = range(0, len(means), 1)\n",
    "figure(figsize=(14, 8), dpi=80)\n",
    "plt.plot(x, means, 'or')\n",
    "plt.plot(x, means, '-', color='gray')\n",
    "\n",
    "plt.fill_between(x, means - stds, means + stds,\n",
    "                 color='gray', alpha=0.2)\n",
    "plt.xlim(0, len(means)+1);"
   ]
  },
  {
   "cell_type": "code",
   "execution_count": null,
   "id": "4ddedd78",
   "metadata": {
    "scrolled": false
   },
   "outputs": [],
   "source": [
    "# Visualize the result\n",
    "means = means_test\n",
    "stds = stds_test\n",
    "x = range(0, len(means), 1)\n",
    "figure(figsize=(14, 8), dpi=80)\n",
    "plt.plot(x, means, 'or')\n",
    "plt.plot(x, means, '-', color='gray')\n",
    "\n",
    "plt.fill_between(x, means - stds, means + stds,\n",
    "                 color='gray', alpha=0.2)\n",
    "plt.xlim(0, len(means)+1);"
   ]
  },
  {
   "cell_type": "code",
   "execution_count": null,
   "id": "bbaabe15",
   "metadata": {},
   "outputs": [],
   "source": []
  },
  {
   "cell_type": "code",
   "execution_count": null,
   "id": "4a832d3f",
   "metadata": {},
   "outputs": [],
   "source": []
  }
 ],
 "metadata": {
  "kernelspec": {
   "display_name": "Python 3 (ipykernel)",
   "language": "python",
   "name": "python3"
  },
  "language_info": {
   "codemirror_mode": {
    "name": "ipython",
    "version": 3
   },
   "file_extension": ".py",
   "mimetype": "text/x-python",
   "name": "python",
   "nbconvert_exporter": "python",
   "pygments_lexer": "ipython3",
   "version": "3.8.3"
  }
 },
 "nbformat": 4,
 "nbformat_minor": 5
}
