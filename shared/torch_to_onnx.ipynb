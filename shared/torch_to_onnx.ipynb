{
 "cells": [
  {
   "cell_type": "code",
   "execution_count": null,
   "id": "fd8e0f47",
   "metadata": {},
   "outputs": [],
   "source": [
    "import torch\n",
    "import torch.onnx\n",
    "import sys\n",
    "import onnx\n",
    "import onnxruntime\n",
    "import numpy as np\n",
    "\n",
    "from ros_packages.px4_ros_extended.src_py.DDPG.models import Actor_small_sep_head  # Change model\n",
    "\n",
    " # https://pytorch.org/tutorials/advanced/super_resolution_with_onnxruntime.html"
   ]
  },
  {
   "cell_type": "code",
   "execution_count": null,
   "id": "db6bc60b",
   "metadata": {},
   "outputs": [],
   "source": [
    "state_dim = 6  # Change state dimension\n",
    "action_dim = 3  # Change action dimension\n",
    "actor = Actor_small_sep_head(state_dim, action_dim).float()  # Change model"
   ]
  },
  {
   "cell_type": "code",
   "execution_count": null,
   "id": "e9cf09df",
   "metadata": {},
   "outputs": [],
   "source": [
    "actor.load_state_dict(torch.load('<model_folder>/<filename>_actor.pt'))"
   ]
  },
  {
   "cell_type": "code",
   "execution_count": null,
   "id": "e885f1fc",
   "metadata": {},
   "outputs": [],
   "source": [
    "actor.eval()"
   ]
  },
  {
   "cell_type": "code",
   "execution_count": null,
   "id": "74d4b5ab",
   "metadata": {},
   "outputs": [],
   "source": [
    "batch_size = 1\n",
    "x = torch.randn(batch_size, state_dim, requires_grad=True)\n",
    "torch_out = actor(x)"
   ]
  },
  {
   "cell_type": "code",
   "execution_count": null,
   "id": "501e5a2e",
   "metadata": {},
   "outputs": [],
   "source": [
    "# Export the model\n",
    "torch.onnx.export(actor,                       # model being run\n",
    "                  x,                           # model input (or a tuple for multiple inputs)\n",
    "                  \"test_onnx_model.onnx\",  # where to save the model (can be a file or file-like object)\n",
    "                  export_params=True,          # store the trained parameter weights inside the model file\n",
    "                  opset_version=10,            # the ONNX version to export the model to\n",
    "                  do_constant_folding=True,    # whether to execute constant folding for optimization\n",
    "                  input_names = ['input'],     # the model's input names\n",
    "                  output_names = ['output'])   # the model's output names"
   ]
  },
  {
   "cell_type": "code",
   "execution_count": null,
   "id": "72c389e3",
   "metadata": {},
   "outputs": [],
   "source": [
    "onnx_model = onnx.load(\"test_onnx_model.onnx\")\n",
    "onnx.checker.check_model(onnx_model)"
   ]
  },
  {
   "cell_type": "code",
   "execution_count": null,
   "id": "fe65c9e2",
   "metadata": {},
   "outputs": [],
   "source": [
    "ort_session = onnxruntime.InferenceSession(\"test_onnx_model.onnx\")\n",
    "\n",
    "def to_numpy(tensor):\n",
    "    return tensor.detach().cpu().numpy() if tensor.requires_grad else tensor.cpu().numpy()\n",
    "\n",
    "# compute ONNX Runtime output prediction\n",
    "ort_inputs = {ort_session.get_inputs()[0].name: to_numpy(x)}\n",
    "ort_outs = ort_session.run(None, ort_inputs)\n",
    "\n",
    "# compare ONNX Runtime and PyTorch results\n",
    "np.testing.assert_allclose(to_numpy(torch_out), ort_outs[0], rtol=1e-03, atol=1e-05)\n",
    "\n",
    "print(\"Ok!\")"
   ]
  },
  {
   "cell_type": "code",
   "execution_count": null,
   "id": "be533bb6",
   "metadata": {},
   "outputs": [],
   "source": [
    "x = torch.randn(batch_size, state_dim, requires_grad=True)\n",
    "ort_inputs = {ort_session.get_inputs()[0].name: to_numpy(x)}\n",
    "ort_outs = ort_session.run(None, ort_inputs)\n",
    "pred = ort_outs[0]"
   ]
  },
  {
   "cell_type": "code",
   "execution_count": null,
   "id": "8a192e37",
   "metadata": {},
   "outputs": [],
   "source": [
    "pred"
   ]
  }
 ],
 "metadata": {
  "kernelspec": {
   "display_name": "Python 3 (ipykernel)",
   "language": "python",
   "name": "python3"
  },
  "language_info": {
   "codemirror_mode": {
    "name": "ipython",
    "version": 3
   },
   "file_extension": ".py",
   "mimetype": "text/x-python",
   "name": "python",
   "nbconvert_exporter": "python",
   "pygments_lexer": "ipython3",
   "version": "3.8.10"
  }
 },
 "nbformat": 4,
 "nbformat_minor": 5
}
