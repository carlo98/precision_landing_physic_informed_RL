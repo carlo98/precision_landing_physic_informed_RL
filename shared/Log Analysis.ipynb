{
 "cells": [
  {
   "cell_type": "markdown",
   "id": "539fb6e8",
   "metadata": {},
   "source": [
    "# Imports"
   ]
  },
  {
   "cell_type": "code",
   "execution_count": null,
   "id": "a3cc7603",
   "metadata": {
    "scrolled": true
   },
   "outputs": [],
   "source": [
    "import pickle\n",
    "import yaml\n",
    "import matplotlib.pyplot as plt\n",
    "from matplotlib.pyplot import figure\n",
    "import pandas as pd\n",
    "\n",
    "%matplotlib inline"
   ]
  },
  {
   "cell_type": "code",
   "execution_count": null,
   "id": "efd45d67",
   "metadata": {},
   "outputs": [],
   "source": [
    "with open('ros_packages/px4_ros_extended/src_py/params.yaml') as info:\n",
    "    info_dict = yaml.load(info, Loader=yaml.SafeLoader)\n",
    "        \n",
    "n_test = info_dict[\"test_window_reward\"]\n",
    "n_train = info_dict[\"train_window_reward\"]"
   ]
  },
  {
   "cell_type": "markdown",
   "id": "e067de6a",
   "metadata": {},
   "source": [
    "# Dataframe Creation"
   ]
  },
  {
   "cell_type": "code",
   "execution_count": null,
   "id": "a411ee21",
   "metadata": {
    "scrolled": true
   },
   "outputs": [],
   "source": [
    "with open(\"logs/log_3.pkl\", \"rb\") as file_pkl:\n",
    "    data = pickle.load(file_pkl)\n",
    "train = data[0]\n",
    "test = data[1]"
   ]
  },
  {
   "cell_type": "markdown",
   "id": "6f423bf1",
   "metadata": {},
   "source": [
    "# Visualization"
   ]
  },
  {
   "cell_type": "code",
   "execution_count": null,
   "id": "b0f8b8ee",
   "metadata": {},
   "outputs": [],
   "source": [
    "# Visualize the result\n",
    "means = pd.Series(train).rolling(n_train, min_periods=10).mean()\n",
    "stds = pd.Series(train).rolling(n_train, min_periods=10).std()\n",
    "x = range(0, len(means))\n",
    "figure(figsize=(20, 8), dpi=80)\n",
    "plt.plot(x, means, 'or')\n",
    "plt.plot(x, means, '-', color='gray')\n",
    "\n",
    "plt.fill_between(x, means - stds, means + stds,\n",
    "                 color='gray', alpha=0.2)\n",
    "plt.xlim(0, len(means)+1);\n",
    "plt.xticks(ticks=range(0, len(means), 100));"
   ]
  },
  {
   "cell_type": "code",
   "execution_count": null,
   "id": "2726d012",
   "metadata": {
    "scrolled": false
   },
   "outputs": [],
   "source": [
    "means = pd.Series(test).rolling(n_test, min_periods=1).mean()\n",
    "stds = pd.Series(test).rolling(n_test, min_periods=1).std()\n",
    "x = range(0, len(means))\n",
    "figure(figsize=(20, 8), dpi=80)\n",
    "plt.plot(x, means, 'or')\n",
    "plt.plot(x, means, '-', color='gray')\n",
    "\n",
    "plt.fill_between(x, means - stds, means + stds,\n",
    "                 color='gray', alpha=0.2)\n",
    "plt.xlim(0, len(means)+1);\n",
    "plt.xticks(ticks=range(0, len(means), 9), labels=range(500, len(train), 500));"
   ]
  }
 ],
 "metadata": {
  "kernelspec": {
   "display_name": "Python 3 (ipykernel)",
   "language": "python",
   "name": "python3"
  },
  "language_info": {
   "codemirror_mode": {
    "name": "ipython",
    "version": 3
   },
   "file_extension": ".py",
   "mimetype": "text/x-python",
   "name": "python",
   "nbconvert_exporter": "python",
   "pygments_lexer": "ipython3",
   "version": "3.8.3"
  }
 },
 "nbformat": 4,
 "nbformat_minor": 5
}
