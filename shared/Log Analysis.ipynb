{
 "cells": [
  {
   "cell_type": "markdown",
   "id": "624a9e3f",
   "metadata": {},
   "source": [
    "# Imports"
   ]
  },
  {
   "cell_type": "code",
   "execution_count": null,
   "id": "eb5d0871",
   "metadata": {
    "scrolled": true
   },
   "outputs": [],
   "source": [
    "import pickle\n",
    "import os\n",
    "import numpy as np\n",
    "import yaml\n",
    "import matplotlib.pyplot as plt\n",
    "from matplotlib.pyplot import figure\n",
    "import pandas as pd\n",
    "\n",
    "%matplotlib inline"
   ]
  },
  {
   "cell_type": "code",
   "execution_count": null,
   "id": "01defe74",
   "metadata": {},
   "outputs": [],
   "source": [
    "run_id = 6"
   ]
  },
  {
   "cell_type": "code",
   "execution_count": null,
   "id": "4f73197c",
   "metadata": {},
   "outputs": [],
   "source": [
    "with open('ros_packages/px4_ros_extended/src_py/params.yaml') as info:\n",
    "    info_dict = yaml.load(info, Loader=yaml.SafeLoader)\n",
    "        \n",
    "n_test = info_dict[\"test_window_reward\"]\n",
    "n_train = info_dict[\"train_window_reward\"]"
   ]
  },
  {
   "cell_type": "markdown",
   "id": "e39d6cd0",
   "metadata": {},
   "source": [
    "# Dataframe Creation"
   ]
  },
  {
   "cell_type": "code",
   "execution_count": null,
   "id": "a684551e",
   "metadata": {
    "scrolled": true
   },
   "outputs": [],
   "source": [
    "with open(\"logs/log_\" + str(run_id) + \".pkl\", \"rb\") as file_pkl:\n",
    "    data = pickle.load(file_pkl)\n",
    "train = pd.Series(data[0])\n",
    "test = pd.Series(data[1])"
   ]
  },
  {
   "cell_type": "markdown",
   "id": "98ad8d2a",
   "metadata": {},
   "source": [
    "# Reward Visualization"
   ]
  },
  {
   "cell_type": "code",
   "execution_count": null,
   "id": "ca388a06",
   "metadata": {
    "scrolled": false
   },
   "outputs": [],
   "source": [
    "# Visualize the result\n",
    "means = train.rolling(n_train, min_periods=10).mean()\n",
    "stds = train.rolling(n_train, min_periods=10).std()\n",
    "x = range(0, len(means))\n",
    "figure(figsize=(20, 8), dpi=80)\n",
    "plt.plot(x, means, 'or')\n",
    "plt.plot(x, means, '-', color='gray')\n",
    "\n",
    "plt.fill_between(x, means - stds, means + stds,\n",
    "                 color='gray', alpha=0.2)\n",
    "plt.xlim(0, len(means)+1);\n",
    "plt.xticks(ticks=range(0, len(means), 500));"
   ]
  },
  {
   "cell_type": "code",
   "execution_count": null,
   "id": "c62287f9",
   "metadata": {
    "scrolled": false
   },
   "outputs": [],
   "source": [
    "means = test.rolling(n_test, min_periods=1).mean()\n",
    "stds = test.rolling(n_test, min_periods=1).std()\n",
    "x = range(0, len(means))\n",
    "figure(figsize=(20, 8), dpi=80)\n",
    "plt.plot(x, means, 'or')\n",
    "plt.plot(x, means, '-', color='gray')\n",
    "\n",
    "plt.fill_between(x, means - stds, means + stds,\n",
    "                 color='gray', alpha=0.2)\n",
    "plt.xlim(0, len(means)+1);\n",
    "plt.xticks(ticks=range(0, len(means), 9), labels=range(500, int(len(means)/9)*500 + 500, 500));"
   ]
  },
  {
   "cell_type": "code",
   "execution_count": null,
   "id": "75f6b96e",
   "metadata": {},
   "outputs": [],
   "source": [
    "test.groupby(test.index // 9).mean()"
   ]
  },
  {
   "cell_type": "markdown",
   "id": "97ceba3d",
   "metadata": {},
   "source": [
    "# Test Results Visualization"
   ]
  },
  {
   "cell_type": "code",
   "execution_count": null,
   "id": "1c3d5d04",
   "metadata": {},
   "outputs": [],
   "source": [
    "folder_path = \"test_logs/\" + str(run_id)\n",
    "file_list_start = os.listdir(folder_path)"
   ]
  },
  {
   "cell_type": "markdown",
   "id": "44b7438a",
   "metadata": {},
   "source": [
    "## Clean anomalies based on threshold on last height"
   ]
  },
  {
   "cell_type": "code",
   "execution_count": null,
   "id": "f4c3b78c",
   "metadata": {},
   "outputs": [],
   "source": [
    "file_list = []\n",
    "for file in file_list_start:\n",
    "    with open(folder_path + \"/\" + file, \"rb\") as file_pkl:\n",
    "        data = pickle.load(file_pkl)\n",
    "    if len(data[1]) == 2 and np.abs(data[0]['z'][-1]) < 0.15:  # Threshold height, otherwise not landed (vz not trained)\n",
    "        file_list.append(file)\n",
    "    elif len(data[1]) == 3 and np.abs(data[0]['z'][-1]) < 0.50:  # Threshold height, otherwise not landed (vz trained)\n",
    "        file_list.append(file)"
   ]
  },
  {
   "cell_type": "markdown",
   "id": "a5dca0cc",
   "metadata": {},
   "source": [
    "## Statistics"
   ]
  },
  {
   "cell_type": "code",
   "execution_count": null,
   "id": "dba11917",
   "metadata": {},
   "outputs": [],
   "source": [
    "last_pos = []  # List of last positions\n",
    "last_vel = []  # List of last velocities\n",
    "for file in file_list:\n",
    "    with open(folder_path + \"/\" + file, \"rb\") as file_pkl:\n",
    "        data = pickle.load(file_pkl)\n",
    "    last_pos.append([np.abs(data[0]['x'][-1]), np.abs(data[0]['y'][-1]), np.abs(data[0]['z'][-1])])\n",
    "    if len(data[1]) == 2:\n",
    "        last_vel.append([np.abs(data[1]['vx'][-1]), np.abs(data[1]['vy'][-1])])\n",
    "    elif len(data[1]) == 3:\n",
    "        last_vel.append([np.abs(data[1]['vx'][-1]), np.abs(data[1]['vy'][-1]), np.abs(data[1]['vz'][-1])])\n",
    "last_pos = np.array(last_pos)\n",
    "last_vel = np.array(last_vel)\n",
    "\n",
    "success_cont = 0\n",
    "for i in range(len(last_pos)):\n",
    "    if last_pos[i][0] <= 0.3 and last_pos[i][1] <= 0.3:\n",
    "        success_cont += 1\n",
    "sr = 100 * success_cont / len(last_pos)\n",
    "\n",
    "print(\"Success Rate: {}\".format(sr))\n",
    "\n",
    "print(\"Mean distance from target: ({}, {}, {})\".format(last_pos[:, 0].mean(), last_pos[:, 1].mean(), last_pos[:, 2].mean()))\n",
    "print(\"Std distance from target: ({}, {}, {})\".format(last_pos[:, 0].std(), last_pos[:, 1].std(), last_pos[:, 2].std()))\n",
    "print(\"Max distance from target: ({}, {}, {})\".format(last_pos[:, 0].max(), last_pos[:, 1].max(), last_pos[:, 2].max()))\n",
    "print(\"90% percentile distance from target: ({}, {}, {})\".format(np.percentile(last_pos[:, 0], 90), np.percentile(last_pos[:, 2], 90), np.percentile(last_pos[:, 2], 90)))\n",
    "print()\n",
    "if len(last_vel[0])==2:\n",
    "    print(\"Mean velocity: ({}, {})\".format(last_vel[:, 0].mean(), last_vel[:, 1].mean()))\n",
    "    print(\"Std velocity: ({}, {})\".format(last_vel[:, 0].std(), last_vel[:, 1].std()))\n",
    "    print(\"Max velocity: ({}, {})\".format(last_vel[:, 0].max(), last_vel[:, 1].max()))\n",
    "    print(\"90% percentile velocity: ({}, {})\".format(np.percentile(last_vel[:, 0], 90), np.percentile(last_vel[:, 1], 90)))\n",
    "elif len(last_vel[0])==3:\n",
    "    print(\"Mean velocity: ({}, {}, {})\".format(last_vel[:, 0].mean(), last_vel[:, 1].mean(), last_vel[:, 2].mean()))\n",
    "    print(\"Std velocity: ({}, {}, {})\".format(last_vel[:, 0].std(), last_vel[:, 1].std(), last_vel[:, 2].std()))\n",
    "    print(\"Max velocity: ({}, {}, {})\".format(last_vel[:, 0].max(), last_vel[:, 1].max(), last_vel[:, 2].max()))\n",
    "    print(\"90% percentile velocity: ({}, {}, {})\".format(np.percentile(last_vel[:, 0], 90), np.percentile(last_vel[:, 1], 90), np.percentile(last_vel[:, 2], 90)))"
   ]
  },
  {
   "cell_type": "markdown",
   "id": "ff6a9591",
   "metadata": {},
   "source": [
    "## Position & Velocity over time, single episode"
   ]
  },
  {
   "cell_type": "code",
   "execution_count": null,
   "id": "b28fac7c",
   "metadata": {},
   "outputs": [],
   "source": [
    "with open(folder_path + \"/\" + file_list[1], \"rb\") as file_pkl:\n",
    "    data = pickle.load(file_pkl)\n",
    "positions = pd.DataFrame(data[0])\n",
    "velocities = pd.DataFrame(data[1])\n",
    "velocities_ref = pd.DataFrame(data[2])\n",
    "time = data[3]"
   ]
  },
  {
   "cell_type": "code",
   "execution_count": null,
   "id": "4339892f",
   "metadata": {},
   "outputs": [],
   "source": [
    "ax = velocities.plot(title=\"Velocity/Time\", figsize=(10, 4));\n",
    "plt.ylim(-1, 1);\n",
    "plt.xlim(0, len(velocities)+1);\n",
    "plt.grid();\n",
    "ax.set_xlabel(\"Time (s)\");\n",
    "ax.set_ylabel(\"Velocity (m/s)\");\n",
    "v_t = round(len(velocities)/time)\n",
    "vel_list = list(range(0, len(velocities), v_t))\n",
    "time_list = list(range(0, round(time), 1))\n",
    "if len(vel_list) > len(time_list):\n",
    "    time_list = list(range(0, round(time)+1, 1))\n",
    "elif len(time_list) > len(vel_list):\n",
    "    vel_list = list(range(0, len(velocities)+v_t, v_t))\n",
    "plt.xticks(ticks=vel_list , labels=time_list);"
   ]
  },
  {
   "cell_type": "code",
   "execution_count": null,
   "id": "d5c207ea",
   "metadata": {},
   "outputs": [],
   "source": [
    "ax = positions.plot(title=\"Position/Time\", figsize=(10, 4));\n",
    "plt.ylim(-3, 3);\n",
    "plt.xlim(0, len(positions)+1);\n",
    "plt.grid();\n",
    "ax.set_xlabel(\"Time (s)\");\n",
    "ax.set_ylabel(\"Position (m)\");\n",
    "p_t = round(len(positions)/time)+1\n",
    "pos_list = list(range(0, len(positions), v_t))\n",
    "time_list = list(range(0, round(time), 1))\n",
    "if len(pos_list) > len(time_list):\n",
    "    time_list = list(range(0, round(time)+1, 1))\n",
    "elif len(time_list) > len(pos_list):\n",
    "    pos_list = list(range(0, len(positions)+v_t, v_t))\n",
    "plt.xticks(ticks=pos_list , labels=time_list);"
   ]
  },
  {
   "cell_type": "code",
   "execution_count": null,
   "id": "c97cfe35",
   "metadata": {},
   "outputs": [],
   "source": [
    "ax = velocities_ref.plot(title=\"Velocity (action)/Time\", figsize=(10, 4));\n",
    "plt.ylim(-1, 1);\n",
    "plt.xlim(0, len(velocities_ref)+1);\n",
    "plt.grid();\n",
    "ax.set_xlabel(\"Time (s)\");\n",
    "ax.set_ylabel(\"Velocity (action)(m/s)\");\n",
    "v_t = round(len(velocities_ref)/time)\n",
    "vel_list = list(range(0, len(velocities_ref), v_t))\n",
    "time_list = list(range(0, round(time), 1))\n",
    "if len(vel_list) > len(time_list):\n",
    "    time_list = list(range(0, round(time)+1, 1))\n",
    "elif len(time_list) > len(vel_list):\n",
    "    vel_list = list(range(0, len(velocities_ref)+v_t, v_t))\n",
    "plt.xticks(ticks=vel_list , labels=time_list);"
   ]
  }
 ],
 "metadata": {
  "kernelspec": {
   "display_name": "Python 3 (ipykernel)",
   "language": "python",
   "name": "python3"
  },
  "language_info": {
   "codemirror_mode": {
    "name": "ipython",
    "version": 3
   },
   "file_extension": ".py",
   "mimetype": "text/x-python",
   "name": "python",
   "nbconvert_exporter": "python",
   "pygments_lexer": "ipython3",
   "version": "3.8.3"
  }
 },
 "nbformat": 4,
 "nbformat_minor": 5
}
