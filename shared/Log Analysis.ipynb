{
 "cells": [
  {
   "cell_type": "markdown",
   "metadata": {},
   "source": [
    "# Imports"
   ]
  },
  {
   "cell_type": "code",
   "execution_count": null,
   "metadata": {
    "scrolled": true
   },
   "outputs": [],
   "source": [
    "import pickle\n",
    "import yaml\n",
    "%matplotlib inline\n",
    "import matplotlib.pyplot as plt\n",
    "from matplotlib.pyplot import figure\n",
    "import pandas as pd"
   ]
  },
  {
   "cell_type": "code",
   "execution_count": null,
   "metadata": {},
   "outputs": [],
   "source": [
    "with open('ros_packages/px4_ros_extended/src_py/params.yaml') as info:\n",
    "    info_dict = yaml.load(info, Loader=yaml.SafeLoader)\n",
    "        \n",
    "n_test = info_dict[\"test_window_reward\"]\n",
    "n_train = info_dict[\"train_window_reward\"]"
   ]
  },
  {
   "cell_type": "markdown",
   "metadata": {},
   "source": [
    "# Dataframe Creation"
   ]
  },
  {
   "cell_type": "code",
   "execution_count": null,
   "metadata": {
    "scrolled": true
   },
   "outputs": [],
   "source": [
    "with open(\"logs/log_2.pkl\", \"rb\") as file_pkl:\n",
    "    data = pickle.load(file_pkl)\n",
    "train = data[0]\n",
    "test = data[1]"
   ]
  },
  {
   "cell_type": "markdown",
   "metadata": {},
   "source": [
    "# Visualization"
   ]
  },
  {
   "cell_type": "code",
   "execution_count": null,
   "metadata": {},
   "outputs": [],
   "source": [
    "# Visualize the result\n",
    "means = pd.Series(train).rolling(n_train).mean()\n",
    "stds = pd.Series(train).rolling(n_train).std()\n",
    "x = range(0, len(means))\n",
    "x_labels = range(0, len(means)*100, 100)\n",
    "figure(figsize=(20, 8), dpi=80)\n",
    "plt.plot(x, means, 'or')\n",
    "plt.plot(x, means, '-', color='gray')\n",
    "\n",
    "plt.fill_between(x, means - stds, means + stds,\n",
    "                 color='gray', alpha=0.2)\n",
    "plt.xlim(0, len(means)+1);\n",
    "plt.xticks(ticks=x, labels=x_labels);"
   ]
  },
  {
   "cell_type": "code",
   "execution_count": null,
   "metadata": {
    "scrolled": false
   },
   "outputs": [],
   "source": [
    "means = pd.Series(test).rolling(n_test).mean()\n",
    "stds = pd.Series(test).rolling(n_test).std()\n",
    "x = range(0, len(means))\n",
    "figure(figsize=(14, 8), dpi=80)\n",
    "plt.plot(x, means, 'or')\n",
    "plt.plot(x, means, '-', color='gray')\n",
    "\n",
    "plt.fill_between(x, means - stds, means + stds,\n",
    "                 color='gray', alpha=0.2)\n",
    "plt.xlim(0, len(means)+1);"
   ]
  }
 ],
 "metadata": {
  "kernelspec": {
   "display_name": "Python 3",
   "language": "python",
   "name": "python3"
  },
  "language_info": {
   "codemirror_mode": {
    "name": "ipython",
    "version": 3
   },
   "file_extension": ".py",
   "mimetype": "text/x-python",
   "name": "python",
   "nbconvert_exporter": "python",
   "pygments_lexer": "ipython3",
   "version": "3.6.9"
  }
 },
 "nbformat": 4,
 "nbformat_minor": 5
}
